{
 "cells": [
  {
   "cell_type": "markdown",
   "metadata": {},
   "source": [
    "# Pandas Warmup: SF Salaries\n",
    "\n",
    "For this warmup you will apply your Pandas (and a bit of Matplotlib) skills to answer questions about a salaries dataset! We will use the [SF Salaries Dataset](https://www.kaggle.com/kaggle/sf-salaries) from Kaggle. Below are bolded instructions: the questions will start off on the easy side and get harder as you go along. Solutions are embedded right underneath each question."
   ]
  },
  {
   "cell_type": "markdown",
   "metadata": {},
   "source": [
    "Pandas documentation is here: http://pandas.pydata.org/pandas-docs/stable/\n",
    "\n",
    "Matplotlib documentation is here: https://matplotlib.org/api/pyplot_summary.html"
   ]
  },
  {
   "cell_type": "code",
   "execution_count": 1,
   "metadata": {},
   "outputs": [],
   "source": [
    "# imports\n",
    "import numpy as np\n",
    "import pandas as pd\n",
    "import matplotlib.pyplot as plt\n",
    "%matplotlib inline"
   ]
  },
  {
   "cell_type": "markdown",
   "metadata": {},
   "source": [
    "**Load \"Salaries.csv\" into a dataframe.**"
   ]
  },
  {
   "cell_type": "code",
   "execution_count": 3,
   "metadata": {},
   "outputs": [],
   "source": [
    "# your code here\n",
    "Salaries = pd.read_csv('data/Salaries.csv')"
   ]
  },
  {
   "cell_type": "markdown",
   "metadata": {},
   "source": [
    "<details>\n",
    "  <summary>Click to expand the solution!</summary>\n",
    "    \n",
    "```python\n",
    "salary = pd.read_csv('data/Salaries.csv')\n",
    " ```\n",
    "</details>\n"
   ]
  },
  {
   "cell_type": "markdown",
   "metadata": {},
   "source": [
    "    "
   ]
  },
  {
   "cell_type": "markdown",
   "metadata": {},
   "source": [
    "**Check the head of the dataframe.**"
   ]
  },
  {
   "cell_type": "code",
   "execution_count": 4,
   "metadata": {},
   "outputs": [
    {
     "data": {
      "text/html": [
       "<div>\n",
       "<style scoped>\n",
       "    .dataframe tbody tr th:only-of-type {\n",
       "        vertical-align: middle;\n",
       "    }\n",
       "\n",
       "    .dataframe tbody tr th {\n",
       "        vertical-align: top;\n",
       "    }\n",
       "\n",
       "    .dataframe thead th {\n",
       "        text-align: right;\n",
       "    }\n",
       "</style>\n",
       "<table border=\"1\" class=\"dataframe\">\n",
       "  <thead>\n",
       "    <tr style=\"text-align: right;\">\n",
       "      <th></th>\n",
       "      <th>Id</th>\n",
       "      <th>EmployeeName</th>\n",
       "      <th>JobTitle</th>\n",
       "      <th>BasePay</th>\n",
       "      <th>OvertimePay</th>\n",
       "      <th>OtherPay</th>\n",
       "      <th>Benefits</th>\n",
       "      <th>TotalPay</th>\n",
       "      <th>TotalPayBenefits</th>\n",
       "      <th>Year</th>\n",
       "      <th>Notes</th>\n",
       "      <th>Agency</th>\n",
       "      <th>Status</th>\n",
       "    </tr>\n",
       "  </thead>\n",
       "  <tbody>\n",
       "    <tr>\n",
       "      <th>0</th>\n",
       "      <td>1</td>\n",
       "      <td>NATHANIEL FORD</td>\n",
       "      <td>GENERAL MANAGER-METROPOLITAN TRANSIT AUTHORITY</td>\n",
       "      <td>167411.18</td>\n",
       "      <td>0.00</td>\n",
       "      <td>400184.25</td>\n",
       "      <td>NaN</td>\n",
       "      <td>567595.43</td>\n",
       "      <td>567595.43</td>\n",
       "      <td>2011</td>\n",
       "      <td>NaN</td>\n",
       "      <td>San Francisco</td>\n",
       "      <td>NaN</td>\n",
       "    </tr>\n",
       "    <tr>\n",
       "      <th>1</th>\n",
       "      <td>2</td>\n",
       "      <td>GARY JIMENEZ</td>\n",
       "      <td>CAPTAIN III (POLICE DEPARTMENT)</td>\n",
       "      <td>155966.02</td>\n",
       "      <td>245131.88</td>\n",
       "      <td>137811.38</td>\n",
       "      <td>NaN</td>\n",
       "      <td>538909.28</td>\n",
       "      <td>538909.28</td>\n",
       "      <td>2011</td>\n",
       "      <td>NaN</td>\n",
       "      <td>San Francisco</td>\n",
       "      <td>NaN</td>\n",
       "    </tr>\n",
       "    <tr>\n",
       "      <th>2</th>\n",
       "      <td>3</td>\n",
       "      <td>ALBERT PARDINI</td>\n",
       "      <td>CAPTAIN III (POLICE DEPARTMENT)</td>\n",
       "      <td>212739.13</td>\n",
       "      <td>106088.18</td>\n",
       "      <td>16452.60</td>\n",
       "      <td>NaN</td>\n",
       "      <td>335279.91</td>\n",
       "      <td>335279.91</td>\n",
       "      <td>2011</td>\n",
       "      <td>NaN</td>\n",
       "      <td>San Francisco</td>\n",
       "      <td>NaN</td>\n",
       "    </tr>\n",
       "    <tr>\n",
       "      <th>3</th>\n",
       "      <td>4</td>\n",
       "      <td>CHRISTOPHER CHONG</td>\n",
       "      <td>WIRE ROPE CABLE MAINTENANCE MECHANIC</td>\n",
       "      <td>77916.00</td>\n",
       "      <td>56120.71</td>\n",
       "      <td>198306.90</td>\n",
       "      <td>NaN</td>\n",
       "      <td>332343.61</td>\n",
       "      <td>332343.61</td>\n",
       "      <td>2011</td>\n",
       "      <td>NaN</td>\n",
       "      <td>San Francisco</td>\n",
       "      <td>NaN</td>\n",
       "    </tr>\n",
       "    <tr>\n",
       "      <th>4</th>\n",
       "      <td>5</td>\n",
       "      <td>PATRICK GARDNER</td>\n",
       "      <td>DEPUTY CHIEF OF DEPARTMENT,(FIRE DEPARTMENT)</td>\n",
       "      <td>134401.60</td>\n",
       "      <td>9737.00</td>\n",
       "      <td>182234.59</td>\n",
       "      <td>NaN</td>\n",
       "      <td>326373.19</td>\n",
       "      <td>326373.19</td>\n",
       "      <td>2011</td>\n",
       "      <td>NaN</td>\n",
       "      <td>San Francisco</td>\n",
       "      <td>NaN</td>\n",
       "    </tr>\n",
       "  </tbody>\n",
       "</table>\n",
       "</div>"
      ],
      "text/plain": [
       "   Id       EmployeeName                                        JobTitle  \\\n",
       "0   1     NATHANIEL FORD  GENERAL MANAGER-METROPOLITAN TRANSIT AUTHORITY   \n",
       "1   2       GARY JIMENEZ                 CAPTAIN III (POLICE DEPARTMENT)   \n",
       "2   3     ALBERT PARDINI                 CAPTAIN III (POLICE DEPARTMENT)   \n",
       "3   4  CHRISTOPHER CHONG            WIRE ROPE CABLE MAINTENANCE MECHANIC   \n",
       "4   5    PATRICK GARDNER    DEPUTY CHIEF OF DEPARTMENT,(FIRE DEPARTMENT)   \n",
       "\n",
       "     BasePay  OvertimePay   OtherPay  Benefits   TotalPay  TotalPayBenefits  \\\n",
       "0  167411.18         0.00  400184.25       NaN  567595.43         567595.43   \n",
       "1  155966.02    245131.88  137811.38       NaN  538909.28         538909.28   \n",
       "2  212739.13    106088.18   16452.60       NaN  335279.91         335279.91   \n",
       "3   77916.00     56120.71  198306.90       NaN  332343.61         332343.61   \n",
       "4  134401.60      9737.00  182234.59       NaN  326373.19         326373.19   \n",
       "\n",
       "   Year  Notes         Agency  Status  \n",
       "0  2011    NaN  San Francisco     NaN  \n",
       "1  2011    NaN  San Francisco     NaN  \n",
       "2  2011    NaN  San Francisco     NaN  \n",
       "3  2011    NaN  San Francisco     NaN  \n",
       "4  2011    NaN  San Francisco     NaN  "
      ]
     },
     "execution_count": 4,
     "metadata": {},
     "output_type": "execute_result"
    }
   ],
   "source": [
    "# your code here\n",
    "Salaries.head()"
   ]
  },
  {
   "cell_type": "markdown",
   "metadata": {},
   "source": [
    "<details>\n",
    "  <summary>Click to expand the solution!</summary>\n",
    "    \n",
    "```python\n",
    "salary.head()\n",
    " ```\n",
    "</details>"
   ]
  },
  {
   "cell_type": "markdown",
   "metadata": {},
   "source": [
    "    "
   ]
  },
  {
   "cell_type": "markdown",
   "metadata": {},
   "source": [
    "**How many entries, or rows are there?**"
   ]
  },
  {
   "cell_type": "code",
   "execution_count": 7,
   "metadata": {},
   "outputs": [
    {
     "name": "stdout",
     "output_type": "stream",
     "text": [
      "<class 'pandas.core.frame.DataFrame'>\n",
      "RangeIndex: 148654 entries, 0 to 148653\n",
      "Data columns (total 13 columns):\n",
      " #   Column            Non-Null Count   Dtype  \n",
      "---  ------            --------------   -----  \n",
      " 0   Id                148654 non-null  int64  \n",
      " 1   EmployeeName      148654 non-null  object \n",
      " 2   JobTitle          148654 non-null  object \n",
      " 3   BasePay           148045 non-null  float64\n",
      " 4   OvertimePay       148650 non-null  float64\n",
      " 5   OtherPay          148650 non-null  float64\n",
      " 6   Benefits          112491 non-null  float64\n",
      " 7   TotalPay          148654 non-null  float64\n",
      " 8   TotalPayBenefits  148654 non-null  float64\n",
      " 9   Year              148654 non-null  int64  \n",
      " 10  Notes             0 non-null       float64\n",
      " 11  Agency            148654 non-null  object \n",
      " 12  Status            0 non-null       float64\n",
      "dtypes: float64(8), int64(2), object(3)\n",
      "memory usage: 14.7+ MB\n"
     ]
    }
   ],
   "source": [
    "# your code here\n",
    "Salaries.info()"
   ]
  },
  {
   "cell_type": "markdown",
   "metadata": {},
   "source": [
    "<details>\n",
    "  <summary>Click to expand the solution!</summary>\n",
    "\n",
    "148,654 rows\n",
    "    \n",
    "```python\n",
    "salary.info()\n",
    " ```\n",
    "Alternatively:\n",
    "```python\n",
    "len(salary)\n",
    " ``` \n",
    "</details>"
   ]
  },
  {
   "cell_type": "markdown",
   "metadata": {},
   "source": [
    "    "
   ]
  },
  {
   "cell_type": "markdown",
   "metadata": {},
   "source": [
    "**What is the average total salary (without benefits)?**"
   ]
  },
  {
   "cell_type": "code",
   "execution_count": 8,
   "metadata": {},
   "outputs": [
    {
     "data": {
      "text/plain": [
       "74768.321971703"
      ]
     },
     "execution_count": 8,
     "metadata": {},
     "output_type": "execute_result"
    }
   ],
   "source": [
    "# your code here\n",
    "Salaries['TotalPay'].mean()"
   ]
  },
  {
   "cell_type": "markdown",
   "metadata": {},
   "source": [
    "<details>\n",
    "  <summary>Click to expand the solution!</summary>\n",
    "    \n",
    "$74,768.32\n",
    "\n",
    "```python\n",
    "salary['TotalPay'].mean()\n",
    " ```\n",
    "</details>"
   ]
  },
  {
   "cell_type": "markdown",
   "metadata": {},
   "source": [
    "   "
   ]
  },
  {
   "cell_type": "markdown",
   "metadata": {},
   "source": [
    "**What is the lowest base salary amount? The highest?**"
   ]
  },
  {
   "cell_type": "code",
   "execution_count": 9,
   "metadata": {},
   "outputs": [
    {
     "name": "stdout",
     "output_type": "stream",
     "text": [
      "-166.01\n",
      "319275.01\n"
     ]
    }
   ],
   "source": [
    "# your code here\n",
    "print(Salaries['BasePay'].min())\n",
    "print(Salaries['BasePay'].max())"
   ]
  },
  {
   "cell_type": "markdown",
   "metadata": {},
   "source": [
    "<details>\n",
    "  <summary>Click to expand the solution!</summary>\n",
    "    \n",
    "Lowest base salary is -$166.01 \n",
    "\n",
    "Highest base salary is $319,275.01\n",
    "    \n",
    "```python\n",
    "min_sal = salary['BasePay'].min()\n",
    "max_sal = salary['BasePay'].max()\n",
    "print(f'Lowest base salary: ${min_sal}')\n",
    "print(f'Highest base salary: ${max_sal}')\n",
    " ```\n",
    "</details>"
   ]
  },
  {
   "cell_type": "markdown",
   "metadata": {},
   "source": [
    "    "
   ]
  },
  {
   "cell_type": "markdown",
   "metadata": {},
   "source": [
    "**Plot a histogram showing the frequency distribution of base salaries. Add an appropriate title and axis labels. How would you describe this distribution? What happens when you increase the bin size?**"
   ]
  },
  {
   "cell_type": "code",
   "execution_count": 17,
   "metadata": {},
   "outputs": [
    {
     "data": {
      "text/plain": [
       "Text(0, 0.5, 'Frequency')"
      ]
     },
     "execution_count": 17,
     "metadata": {},
     "output_type": "execute_result"
    },
    {
     "data": {
      "image/png": "[encoded data removed]",
      "text/plain": [
       "<Figure size 432x288 with 1 Axes>"
      ]
     },
     "metadata": {
      "needs_background": "light"
     },
     "output_type": "display_data"
    }
   ],
   "source": [
    "# your code here\n",
    "fig, ax = plt.subplots()\n",
    "ax.hist(Salaries['BasePay'],bins=100)\n",
    "ax.set_title('Salary Distribution in SF')\n",
    "ax.set_xlabel('Salary')\n",
    "ax.set_ylabel('Frequency')"
   ]
  },
  {
   "cell_type": "markdown",
   "metadata": {},
   "source": [
    "<details>\n",
    "  <summary>Click to expand the solution!</summary>\n",
    "    \n",
    "```python\n",
    "fig, ax = plt.subplots()\n",
    "ax.hist(sal['BasePay'],bins=10)\n",
    "ax.set_xlabel('Base Salary')\n",
    "ax.set_ylabel('Frequency')\n",
    "ax.set_title('Base Salary: Frequency Distribution')\n",
    "plt.show()\n",
    " ```\n",
    "    \n",
    "Using a bin size of 10, the distribution of base salaries appears to be right-skewed. As we increase the number of bins, we see more peaks emerge, and the distribution becomes increasingly multimodal. Using a bin size of 50 for instance, we can clearly see one peak close to 0, another between 50,000 and 100,000, and another close to 100,000. \n",
    "</details>"
   ]
  },
  {
   "cell_type": "markdown",
   "metadata": {},
   "source": [
    "   "
   ]
  },
  {
   "cell_type": "markdown",
   "metadata": {},
   "source": [
    "**What are the three most common job titles?**"
   ]
  },
  {
   "cell_type": "code",
   "execution_count": 23,
   "metadata": {},
   "outputs": [
    {
     "data": {
      "text/plain": [
       "Transit Operator    7036\n",
       "Special Nurse       4389\n",
       "Registered Nurse    3736\n",
       "Name: JobTitle, dtype: int64"
      ]
     },
     "execution_count": 23,
     "metadata": {},
     "output_type": "execute_result"
    }
   ],
   "source": [
    "# your code here\n",
    "Salaries['JobTitle'].value_counts().head(3)"
   ]
  },
  {
   "cell_type": "markdown",
   "metadata": {},
   "source": [
    "<details>\n",
    "  <summary>Click to expand the solution!</summary>\n",
    "\n",
    "The three most common titles are Transit Operator, Special Nurse, and Registered Nurse.\n",
    "    \n",
    "```python\n",
    "salary['JobTitle'].value_counts().iloc[:3]\n",
    " ```\n",
    "Alternatively:\n",
    "```python\n",
    "salary['JobTitle'].value_counts().head(3)\n",
    " ```     \n",
    "</details>"
   ]
  },
  {
   "cell_type": "markdown",
   "metadata": {},
   "source": [
    "   "
   ]
  },
  {
   "cell_type": "markdown",
   "metadata": {},
   "source": [
    "**How many unique job titles are there?**"
   ]
  },
  {
   "cell_type": "code",
   "execution_count": 28,
   "metadata": {},
   "outputs": [
    {
     "data": {
      "text/plain": [
       "2159"
      ]
     },
     "execution_count": 28,
     "metadata": {},
     "output_type": "execute_result"
    }
   ],
   "source": [
    "# your code here\n",
    "len(Salaries['JobTitle'].unique())"
   ]
  },
  {
   "cell_type": "markdown",
   "metadata": {},
   "source": [
    "<details>\n",
    "  <summary>Click to expand the solution!</summary>\n",
    "\n",
    "There are 2,159 unique job titles.\n",
    "```python\n",
    "salary['JobTitle'].nunique()\n",
    " ``` \n",
    "</details>"
   ]
  },
  {
   "cell_type": "markdown",
   "metadata": {},
   "source": [
    "    "
   ]
  },
  {
   "cell_type": "markdown",
   "metadata": {},
   "source": [
    "**What is the job title and base salary of \"VENUS AZAR\"?**"
   ]
  },
  {
   "cell_type": "code",
   "execution_count": 40,
   "metadata": {},
   "outputs": [
    {
     "data": {
      "text/html": [
       "<div>\n",
       "<style scoped>\n",
       "    .dataframe tbody tr th:only-of-type {\n",
       "        vertical-align: middle;\n",
       "    }\n",
       "\n",
       "    .dataframe tbody tr th {\n",
       "        vertical-align: top;\n",
       "    }\n",
       "\n",
       "    .dataframe thead th {\n",
       "        text-align: right;\n",
       "    }\n",
       "</style>\n",
       "<table border=\"1\" class=\"dataframe\">\n",
       "  <thead>\n",
       "    <tr style=\"text-align: right;\">\n",
       "      <th></th>\n",
       "      <th>JobTitle</th>\n",
       "      <th>BasePay</th>\n",
       "    </tr>\n",
       "  </thead>\n",
       "  <tbody>\n",
       "    <tr>\n",
       "      <th>20</th>\n",
       "      <td>ASSISTANT MEDICAL EXAMINER</td>\n",
       "      <td>257510.48</td>\n",
       "    </tr>\n",
       "  </tbody>\n",
       "</table>\n",
       "</div>"
      ],
      "text/plain": [
       "                      JobTitle    BasePay\n",
       "20  ASSISTANT MEDICAL EXAMINER  257510.48"
      ]
     },
     "execution_count": 40,
     "metadata": {},
     "output_type": "execute_result"
    }
   ],
   "source": [
    "# your code here\n",
    "Salaries[Salaries['EmployeeName'] == 'VENUS AZAR'][['JobTitle', 'BasePay']]"
   ]
  },
  {
   "cell_type": "markdown",
   "metadata": {},
   "source": [
    "<details>\n",
    "  <summary>Click to expand the solution!</summary>\n",
    "\n",
    "Assistant Medical Examiner, $257,510.48\n",
    "\n",
    "```python\n",
    "salary[salary['EmployeeName']=='VENUS AZAR'][['JobTitle','BasePay']]\n",
    " ``` \n",
    "</details>"
   ]
  },
  {
   "cell_type": "markdown",
   "metadata": {},
   "source": [
    "    "
   ]
  },
  {
   "cell_type": "markdown",
   "metadata": {},
   "source": [
    "**For how many employees does the sum of overtime pay and other pay exceed base salary?**"
   ]
  },
  {
   "cell_type": "code",
   "execution_count": 46,
   "metadata": {},
   "outputs": [
    {
     "data": {
      "text/plain": [
       "2706"
      ]
     },
     "execution_count": 46,
     "metadata": {},
     "output_type": "execute_result"
    }
   ],
   "source": [
    "# your code here\n",
    "len(Salaries[(Salaries['OvertimePay']+Salaries['OtherPay']) > Salaries['BasePay']])"
   ]
  },
  {
   "cell_type": "markdown",
   "metadata": {},
   "source": [
    "<details>\n",
    "  <summary>Click to expand the solution!</summary>\n",
    "\n",
    "2,706 employees\n",
    "    \n",
    "```python\n",
    "len(salary[salary['OvertimePay']+salary['OtherPay']>salary['BasePay']])\n",
    " ``` \n",
    "</details>"
   ]
  },
  {
   "cell_type": "markdown",
   "metadata": {},
   "source": [
    "   "
   ]
  },
  {
   "cell_type": "markdown",
   "metadata": {},
   "source": [
    "**Who had the highest salary (including benefits) in 2013?**"
   ]
  },
  {
   "cell_type": "code",
   "execution_count": 52,
   "metadata": {},
   "outputs": [
    {
     "data": {
      "text/plain": [
       "72925    Gregory P Suhr\n",
       "Name: EmployeeName, dtype: object"
      ]
     },
     "execution_count": 52,
     "metadata": {},
     "output_type": "execute_result"
    }
   ],
   "source": [
    "# your code here\n",
    "Salaries_2013 = Salaries[Salaries['Year']==2013]\n",
    "Salaries_2013[Salaries_2013['TotalPayBenefits'] == Salaries_2013['TotalPayBenefits'].max()]['EmployeeName']"
   ]
  },
  {
   "cell_type": "markdown",
   "metadata": {},
   "source": [
    "<details>\n",
    "  <summary>Click to expand the solution!</summary>\n",
    "\n",
    "Gregory P Suhr had the highest salary (including benefits) in 2013.\n",
    "    \n",
    "```python\n",
    "salary_2013 = salary[(salary['Year']==2013)]\n",
    "salary_2013[salary_2013['TotalPayBenefits']==salary_2013['TotalPayBenefits'].max()]['EmployeeName'] \n",
    "``` \n",
    "\n",
    "</details>"
   ]
  },
  {
   "cell_type": "markdown",
   "metadata": {},
   "source": [
    "   "
   ]
  },
  {
   "cell_type": "markdown",
   "metadata": {},
   "source": [
    "**Calculate the median base salary of all employees for each year (from 2011-2014). Graph the median base salary over time. Add axis labels and an appropriate title.**"
   ]
  },
  {
   "cell_type": "code",
   "execution_count": 122,
   "metadata": {},
   "outputs": [
    {
     "data": {
      "text/plain": [
       "[<matplotlib.axis.XTick at 0x7fd5e08ed310>,\n",
       " <matplotlib.axis.XTick at 0x7fd5e08e2c50>,\n",
       " <matplotlib.axis.XTick at 0x7fd5e08e27d0>,\n",
       " <matplotlib.axis.XTick at 0x7fd5e224fd50>]"
      ]
     },
     "execution_count": 122,
     "metadata": {},
     "output_type": "execute_result"
    },
    {
     "data": {
      "image/png": "[encoded data removed]",
      "text/plain": [
       "<Figure size 432x288 with 1 Axes>"
      ]
     },
     "metadata": {
      "needs_background": "light"
     },
     "output_type": "display_data"
    }
   ],
   "source": [
    "# your code here\n",
    "median_base_per_year = Salaries.groupby('Year')['BasePay'].median()\n",
    "\n",
    "fig, ax = plt.subplots()\n",
    "ax.plot(median_base_per_year)\n",
    "ax.set_title('Median Base Pay per Year')\n",
    "ax.set_xlabel('Year')\n",
    "ax.set_ylabel('Base Pay')\n",
    "ax.set_xticks(np.arange(2011,2015,1))"
   ]
  },
  {
   "cell_type": "markdown",
   "metadata": {},
   "source": [
    "<details>\n",
    "  <summary>Click to expand the solution!</summary>\n",
    "    \n",
    "```python\n",
    "grouped_basepay = salary.groupby('Year').median()['BasePay']\n",
    "    \n",
    "fig,ax = plt.subplots()\n",
    "x_ticks = np.arange(2011, 2015, 1)\n",
    "plt.xticks(x_ticks)\n",
    "ax.plot(grouped_basepay)\n",
    "ax.set_xlabel(\"Year\")\n",
    "ax.set_ylabel(\"Base Salary\")\n",
    "ax.set_title(\"Median Base Salary: 2011 - 2014\")\n",
    "plt.show()\n",
    "``` \n",
    "\n",
    "</details>"
   ]
  },
  {
   "cell_type": "markdown",
   "metadata": {},
   "source": [
    "   "
   ]
  },
  {
   "cell_type": "markdown",
   "metadata": {},
   "source": [
    "**Calculate the median total pay (without benefits) and median total pay (with benefits) for each year. Graph both of these on the same figure. Add a legend, axis labels and an appropriate title.**"
   ]
  },
  {
   "cell_type": "code",
   "execution_count": 124,
   "metadata": {},
   "outputs": [
    {
     "data": {
      "text/plain": [
       "[<matplotlib.axis.XTick at 0x7fd5df33b290>,\n",
       " <matplotlib.axis.XTick at 0x7fd5dfd225d0>,\n",
       " <matplotlib.axis.XTick at 0x7fd5dfd22490>,\n",
       " <matplotlib.axis.XTick at 0x7fd5e0707850>]"
      ]
     },
     "execution_count": 124,
     "metadata": {},
     "output_type": "execute_result"
    },
    {
     "data": {
      "image/png": "[encoded data removed]",
      "text/plain": [
       "<Figure size 432x288 with 1 Axes>"
      ]
     },
     "metadata": {
      "needs_background": "light"
     },
     "output_type": "display_data"
    }
   ],
   "source": [
    "# your code here\n",
    "medians_yoy = Salaries.groupby('Year')[['TotalPay','TotalPayBenefits']].median()\n",
    "\n",
    "fig, ax = plt.subplots()\n",
    "ax.plot(medians_yoy)\n",
    "ax.legend(('Total Pay','Total Pay Benefits'))\n",
    "ax.set_xlabel('Year')\n",
    "ax.set_ylabel('Pay')\n",
    "ax.set_xticks(np.arange(2011,2015))"
   ]
  },
  {
   "cell_type": "markdown",
   "metadata": {},
   "source": [
    "<details>\n",
    "  <summary>Click to expand the solution!</summary>\n",
    "    \n",
    "```python\n",
    "grouped_totalpay = sal.groupby('Year').median()[['TotalPay','TotalPayBenefits']]\n",
    "    \n",
    "fig,ax = plt.subplots()\n",
    "x_ticks = np.arange(2011, 2015, 1)\n",
    "plt.xticks(x_ticks)\n",
    "ax.plot(grouped_totalpay['TotalPay'],label='Total Pay (Without Benefits)')\n",
    "ax.plot(grouped_totalpay['TotalPayBenefits'],label='Total Pay (With Benefits)')\n",
    "ax.legend(loc='best')\n",
    "ax.set_xlabel(\"Year\")\n",
    "ax.set_ylabel(\"Base Salary\")\n",
    "ax.set_title(\"Total Pay (With and Without Benefits): 2011 - 2014\")\n",
    "plt.show()\n",
    "``` \n",
    "\n",
    "</details>"
   ]
  },
  {
   "cell_type": "markdown",
   "metadata": {},
   "source": [
    "    "
   ]
  },
  {
   "cell_type": "markdown",
   "metadata": {},
   "source": [
    "**What are the top 3 job titles with the highest average total salaries (including benefits)?**"
   ]
  },
  {
   "cell_type": "code",
   "execution_count": null,
   "metadata": {},
   "outputs": [],
   "source": [
    "# your code here"
   ]
  },
  {
   "cell_type": "markdown",
   "metadata": {},
   "source": [
    "<details>\n",
    "  <summary>Click to expand the solution!</summary>\n",
    "\n",
    "The top three job titles are Chief Investment Officer, Chief of Police, and Chief, Fire Department.\n",
    "    \n",
    "```python\n",
    "salary.groupby('JobTitle').mean()['TotalPayBenefits'].sort_values(ascending=False).head(3)\n",
    "``` \n",
    "\n",
    "</details>"
   ]
  },
  {
   "cell_type": "markdown",
   "metadata": {},
   "source": [
    "    "
   ]
  },
  {
   "cell_type": "markdown",
   "metadata": {},
   "source": [
    "**How many job titles are represented by only one person in 2013? (e.g. job titles with only one occurence in 2013?)**"
   ]
  },
  {
   "cell_type": "code",
   "execution_count": null,
   "metadata": {},
   "outputs": [],
   "source": [
    "# your code here"
   ]
  },
  {
   "cell_type": "markdown",
   "metadata": {},
   "source": [
    "<details>\n",
    "  <summary>Click to expand the solution!</summary>\n",
    "    \n",
    "202 job titles are represented by just one person in 2013.\n",
    "    \n",
    "```python\n",
    "(salary[salary['Year']==2013]['JobTitle'].value_counts() == 1).sum() \n",
    "``` \n",
    "\n",
    "</details>"
   ]
  },
  {
   "cell_type": "markdown",
   "metadata": {},
   "source": [
    "    "
   ]
  },
  {
   "cell_type": "markdown",
   "metadata": {},
   "source": [
    "**How many employees' first names start with 'C'? Hint: An \"apply\" method may be helpful here.**"
   ]
  },
  {
   "cell_type": "code",
   "execution_count": null,
   "metadata": {},
   "outputs": [],
   "source": [
    "# your code here"
   ]
  },
  {
   "cell_type": "markdown",
   "metadata": {},
   "source": [
    "<details>\n",
    "  <summary>Click to expand the solution!</summary>\n",
    "    \n",
    "9,845 employees' first names start with 'C'.\n",
    "    \n",
    "```python\n",
    "salary['EmployeeName'].apply(lambda x: x[0] == 'C').sum() \n",
    "``` \n",
    "\n",
    "</details>"
   ]
  },
  {
   "cell_type": "markdown",
   "metadata": {},
   "source": [
    "   "
   ]
  },
  {
   "cell_type": "markdown",
   "metadata": {},
   "source": [
    "**BONUS: How many employees have the word General in their job title? Note that some titles are completely uppercase while others are capitalized, and that here we'll want to account for all cases (i.e. 'general' = 'General' = 'GENERAL' = 'gEnErAl')**"
   ]
  },
  {
   "cell_type": "code",
   "execution_count": null,
   "metadata": {},
   "outputs": [],
   "source": [
    "# your code here"
   ]
  },
  {
   "cell_type": "markdown",
   "metadata": {},
   "source": [
    "<details>\n",
    "  <summary>Click to expand the solution!</summary>\n",
    "    \n",
    "1,675 employees have the word \"General\" in their job title. One way to approach this problem is to first create a custom function that returns a boolean depending on whether a given string is in the title, pass that function to the apply method (which applies the function to each row in the job title column), and then sum up the number of True values.\n",
    "    \n",
    "```python    \n",
    "def string_job_title(title,string):\n",
    "    if string.lower() in title.lower():\n",
    "        return True\n",
    "    else:\n",
    "        return False\n",
    "\n",
    "sum(salary['JobTitle'].apply(lambda x: string_job_title(x,'General')))\n",
    "``` \n",
    "    \n",
    "</details>"
   ]
  },
  {
   "cell_type": "markdown",
   "metadata": {},
   "source": [
    "**GREAT JOB!**"
   ]
  },
  {
   "cell_type": "code",
   "execution_count": null,
   "metadata": {},
   "outputs": [],
   "source": []
  }
 ],
 "metadata": {
  "kernelspec": {
   "display_name": "Python 3",
   "language": "python",
   "name": "python3"
  },
  "language_info": {
   "codemirror_mode": {
    "name": "ipython",
    "version": 3
   },
   "file_extension": ".py",
   "mimetype": "text/x-python",
   "name": "python",
   "nbconvert_exporter": "python",
   "pygments_lexer": "ipython3",
   "version": "3.7.9"
  }
 },
 "nbformat": 4,
 "nbformat_minor": 1
}
